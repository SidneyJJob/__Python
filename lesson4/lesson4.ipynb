{
 "cells": [
  {
   "cell_type": "code",
   "execution_count": null,
   "id": "804bf918",
   "metadata": {},
   "outputs": [],
   "source": [
    "print(\"建立變數“)\n",
    "name = \"python\"\n",
    "print(\"變數內容:\", name)\n",
    "print(\"變數類型:\", type(name))\n",
    "print(\"變數長度:\", len(name))\n"
   ]
  },
  {
   "cell_type": "markdown",
   "id": "0cbc7367",
   "metadata": {},
   "source": [
    "### Python 儲存資料\n",
    "- 變數\n",
    "- list\n",
    "- dict"
   ]
  }
 ],
 "metadata": {
  "kernelspec": {
   "display_name": "linebot",
   "language": "python",
   "name": "python3"
  },
  "language_info": {
   "name": "python",
   "version": "3.12.11"
  }
 },
 "nbformat": 4,
 "nbformat_minor": 5
}
