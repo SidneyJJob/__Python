{
 "cells": [
  {
   "cell_type": "code",
   "execution_count": 4,
   "id": "658e9bf0",
   "metadata": {},
   "outputs": [
    {
     "name": "stdout",
     "output_type": "stream",
     "text": [
      "1 5.0 hello True None\n",
      "hello world\n",
      "1 5.0 hello True.\n"
     ]
    }
   ],
   "source": [
    "print (1,5.0, \"hello\", True, None)\n",
    "print(\"hello world\")    \n",
    "print(1, 5.0, \"hello\", True, end=\".\\n\", file=None, flush=False)"
   ]
  },
  {
   "cell_type": "code",
   "execution_count": null,
   "id": "804bf918",
   "metadata": {},
   "outputs": [
    {
     "ename": "SyntaxError",
     "evalue": "unterminated string literal (detected at line 1) (1462151523.py, line 1)",
     "output_type": "error",
     "traceback": [
      "  \u001b[36mCell\u001b[39m\u001b[36m \u001b[39m\u001b[32mIn[8]\u001b[39m\u001b[32m, line 1\u001b[39m\n\u001b[31m    \u001b[39m\u001b[31mprint(\"建立變數“)\u001b[39m\n          ^\n\u001b[31mSyntaxError\u001b[39m\u001b[31m:\u001b[39m unterminated string literal (detected at line 1)\n"
     ]
    }
   ],
   "source": [
    "print(\"建立變數\")\n",
    "name = \"python\"\n",
    "print(\"變數內容:\", name, sep=\"\")\n",
    "print(\"變數類型:\", type(name), sep=\"-\")\n",
    "print(\"變數長度:\", len(name) sep=\"*\")"
   ]
  },
  {
   "cell_type": "markdown",
   "id": "0cbc7367",
   "metadata": {},
   "source": [
    "### Python 儲存資料\n",
    "- 變數\n",
    "- list\n",
    "- dict"
   ]
  }
 ],
 "metadata": {
  "kernelspec": {
   "display_name": "linebot",
   "language": "python",
   "name": "python3"
  },
  "language_info": {
   "codemirror_mode": {
    "name": "ipython",
    "version": 3
   },
   "file_extension": ".py",
   "mimetype": "text/x-python",
   "name": "python",
   "nbconvert_exporter": "python",
   "pygments_lexer": "ipython3",
   "version": "3.12.11"
  }
 },
 "nbformat": 4,
 "nbformat_minor": 5
}
