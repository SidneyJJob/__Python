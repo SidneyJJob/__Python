{
 "cells": [
  {
   "cell_type": "code",
   "execution_count": 16,
   "id": "02ac331b",
   "metadata": {},
   "outputs": [
    {
     "name": "stdout",
     "output_type": "stream",
     "text": [
      "===========AI回應==============\n"
     ]
    },
    {
     "data": {
      "text/markdown": [
       "好，我來用簡單的方式解釋一下 Python 的函式：\n",
       "\n",
       "**想像一下，Python 的函式就像一個工具箱，裡面有各種各樣的 “任務” 或者 “操作” 可以幫你做。**\n",
       "\n",
       "**簡單來說，函式就是一個可以執行特定動作的指令。**\n",
       "\n",
       "**以下是一些例子：**\n",
       "\n",
       "* **計算:** 函式可以計算加、減、乘、除等等，比如 `result = a + b`  這就是一個計算函式。\n",
       "* **處理資料:**  函式可以讀取資料（例如讀取一個檔案），處理資料（例如整理資料），或者寫入資料（例如將資料儲存到檔案）。 比如 `read_file()` 函式讀取一個檔案， `process_data()` 函式對資料進行一些處理。\n",
       "* **顯示訊息:** 函式可以顯示一些訊息給你看，比如 `print(\"Hello, world!\")` 也就是顯示 \"Hello, world!\"。\n",
       "* **控制程式碼:** 函式可以告訴程式碼做什麼，比如 `if x > 5:` 函式判斷 x 大於 5，如果成立，就顯示 \"x 大於 5\"。\n",
       "\n",
       "**核心概念：**\n",
       "\n",
       "* **函式名稱:**  函式需要有一個名稱，用來命名它，方便我們閱讀和使用。\n",
       "* **參數 (Arguments):** 函式可以接收參數，這些參數是讓函式可以執行特定任務的資訊。\n",
       "* **返回值 (Return Value):** 函式可以返回一個結果，這個結果可以是數字、文字、或其他資料。\n",
       "\n",
       "**總結：**\n",
       "\n",
       "Python 的函式就像是程式碼中的小樹一樣，每個樹（函式）都有一個特定的功能，你可以使用它們來完成不同的任務。 \n",
       "\n",
       "**你可以用簡單的例子來理解，例如：**\n",
       "\n",
       "假設你有一張圖，你想在圖上畫一個圓圈，那就可以寫一個 `draw_circle()` 函式，這個函式會自動畫一個圓圈。\n",
       "\n",
       "希望這個解釋比較簡單易懂！  如果你還有其他問題，隨時提問。"
      ],
      "text/plain": [
       "<IPython.core.display.Markdown object>"
      ]
     },
     "metadata": {},
     "output_type": "display_data"
    }
   ],
   "source": [
    "import requests\n",
    "#import pprint\n",
    "from pprint import pprint\n",
    "from IPython.display import Markdown, display\n",
    "\n",
    "def generate_with_ollama(prompt:str)->None:\n",
    "    url = \"http://localhost:11434/api/generate\"\n",
    "    payload = {\n",
    "        \"model\":\"gemma3:1b\",\n",
    "        \"prompt\":prompt ,\n",
    "        \"stream\":False\n",
    "}\n",
    "    response = requests.post(url,json=payload)\n",
    "    result = response.json()\n",
    "    #print(type(result))\n",
    "    #pprint(result)\n",
    "    print(\"===========AI回應==============\")\n",
    "    display(Markdown(result['response']))\n",
    "\n",
    "generate_with_ollama(\"請用簡單的方式解釋什麼是Python的函式?\")"
   ]
  },
  {
   "cell_type": "code",
   "execution_count": 10,
   "id": "8787f286",
   "metadata": {},
   "outputs": [
    {
     "name": "stdout",
     "output_type": "stream",
     "text": [
      "===========AI回應==============\n"
     ]
    },
    {
     "data": {
      "text/markdown": [
       "想像一下 Python 的函式就像是**你給一個工具或指令**，可以幫你做一些特定的事情。\n",
       "\n",
       "以下是簡單的解釋：\n",
       "\n",
       "* **函式是程式碼片段**，你可以重複使用和修改。\n",
       "* **你給函式一個參數**（就像你給工具一個特定的東西），函式會根據這個參數來做事情。\n",
       "* **函式會執行一段程式碼**，這個程式碼會根據你給的參數做一些事情，然後給你結果。\n",
       "\n",
       "**舉個例子：**\n",
       "\n",
       "假設你要計算一個數字：\n",
       "\n",
       "* **函式：** `計算數字`\n",
       "* **參數：** 10\n",
       "* **程式碼：** `result = 10 + 5`\n",
       "* **結果：** `result = 15`\n",
       "\n",
       "所以，你給了這個函式一個數字(10)，函式計算結果，並給你一個結果(15)。\n",
       "\n",
       "**更簡單的說：**\n",
       "\n",
       "函式就像是「指令」，可以讓你重複執行，讓程式碼運作。\n",
       "\n",
       "**總之，Python 函式就是用程式碼來完成特定的任務。**\n",
       "\n",
       "希望這個解釋對你有幫助！\n"
      ],
      "text/plain": [
       "<IPython.core.display.Markdown object>"
      ]
     },
     "metadata": {},
     "output_type": "display_data"
    }
   ],
   "source": [
    "import requests\n",
    "#import pprint\n",
    "from pprint import pprint\n",
    "from IPython.display import Markdown, display\n",
    "\n",
    "def generate_with_ollama(prompt:str)->None:\n",
    "    url = \"http://localhost:11434/api/generate\"\n",
    "    payload = {\n",
    "        \"model\":\"gemma3:1b\",\n",
    "        \"prompt\":prompt,\n",
    "        \"stream\":False\n",
    "    }\n",
    "    response = requests.post(url,json=payload)\n",
    "    result = response.json()\n",
    "    #print(type(result))\n",
    "    #pprint(result)\n",
    "    print(\"===========AI回應==============\")\n",
    "    display(Markdown(result['response']))\n",
    "\n",
    "generate_with_ollama(\"請用簡單的方式解釋什麼是Python的函式？\")"
   ]
  }
 ],
 "metadata": {
  "kernelspec": {
   "display_name": "linebot",
   "language": "python",
   "name": "python3"
  },
  "language_info": {
   "codemirror_mode": {
    "name": "ipython",
    "version": 3
   },
   "file_extension": ".py",
   "mimetype": "text/x-python",
   "name": "python",
   "nbconvert_exporter": "python",
   "pygments_lexer": "ipython3",
   "version": "3.12.11"
  }
 },
 "nbformat": 4,
 "nbformat_minor": 5
}
